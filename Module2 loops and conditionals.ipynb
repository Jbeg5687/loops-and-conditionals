{
 "cells": [
  {
   "cell_type": "code",
   "execution_count": 1,
   "id": "aee302aa-2050-45c1-8f61-a78f0e772440",
   "metadata": {},
   "outputs": [
    {
     "name": "stdout",
     "output_type": "stream",
     "text": [
      "Too Low!\n"
     ]
    }
   ],
   "source": [
    "secret = 6\n",
    "guess = 4\n",
    "if guess < secret:\n",
    "    print(\"Too Low!\")\n",
    "elif guess > secret:\n",
    "    print(\"Too High!\")\n",
    "else:\n",
    "    print(\"Just Right!\")"
   ]
  },
  {
   "cell_type": "code",
   "execution_count": 3,
   "id": "65037cb5-b5f9-4db0-9a12-d34b56880494",
   "metadata": {},
   "outputs": [
    {
     "name": "stdout",
     "output_type": "stream",
     "text": [
      "this could be a pea\n"
     ]
    }
   ],
   "source": [
    "small = True\n",
    "green = True\n",
    "\n",
    "if small and green:\n",
    "    print(\"this could be a pea\")\n",
    "elif small and not green:\n",
    "    print(\"this could be a cherry\")\n",
    "elif not small and green:\n",
    "    print(\"this could be a watermelon\")\n",
    "elif not small and not green:\n",
    "    print(\"this could be a pumpkin\")\n",
    "else: \n",
    "    print(\"no match\")"
   ]
  },
  {
   "cell_type": "code",
   "execution_count": 5,
   "id": "8545f977-9320-4944-8808-faf1ce1a88ce",
   "metadata": {},
   "outputs": [
    {
     "name": "stdout",
     "output_type": "stream",
     "text": [
      "3\n",
      "2\n",
      "1\n",
      "0\n"
     ]
    }
   ],
   "source": [
    "my_list = [3, 2, 1, 0]\n",
    "\n",
    "for number in my_list:\n",
    "    print(number)"
   ]
  },
  {
   "cell_type": "code",
   "execution_count": 7,
   "id": "0c89913f-1805-48ba-8e84-213cac471420",
   "metadata": {},
   "outputs": [
    {
     "name": "stdout",
     "output_type": "stream",
     "text": [
      "too low\n",
      "too low\n",
      "too low\n",
      "found it\n"
     ]
    }
   ],
   "source": [
    "guess_me = 7\n",
    "number = 4\n",
    "\n",
    "while True:\n",
    "    if number < guess_me:\n",
    "        print(\"too low\")\n",
    "    elif number == guess_me:\n",
    "        print(\"found it\")\n",
    "        break\n",
    "    else:\n",
    "        print(\"oops\")\n",
    "        break\n",
    "    number += 1"
   ]
  },
  {
   "cell_type": "code",
   "execution_count": 9,
   "id": "2ba5efca-9bdc-4681-9817-d687ff082dba",
   "metadata": {},
   "outputs": [
    {
     "name": "stdout",
     "output_type": "stream",
     "text": [
      "0: Too low!\n",
      "1: Too low!\n",
      "2: Too low!\n",
      "3: Too low!\n",
      "4: Too low!\n",
      "5: Found it!\n"
     ]
    }
   ],
   "source": [
    "guess_me = 5\n",
    "\n",
    "for number in range(10):\n",
    "    if number < guess_me:\n",
    "        print(f\"{number}: Too low!\")\n",
    "    elif number == guess_me:\n",
    "        print(f\"{number}: Found it!\")\n",
    "        break\n",
    "    else:\n",
    "        print(f\"{number}: Oops!\")\n",
    "        break"
   ]
  },
  {
   "cell_type": "code",
   "execution_count": null,
   "id": "403c29ec-2905-4512-bd50-a624ae82505f",
   "metadata": {},
   "outputs": [],
   "source": []
  }
 ],
 "metadata": {
  "kernelspec": {
   "display_name": "Python 3 (ipykernel)",
   "language": "python",
   "name": "python3"
  },
  "language_info": {
   "codemirror_mode": {
    "name": "ipython",
    "version": 3
   },
   "file_extension": ".py",
   "mimetype": "text/x-python",
   "name": "python",
   "nbconvert_exporter": "python",
   "pygments_lexer": "ipython3",
   "version": "3.12.4"
  }
 },
 "nbformat": 4,
 "nbformat_minor": 5
}
